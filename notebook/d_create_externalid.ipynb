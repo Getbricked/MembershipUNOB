{
 "cells": [
  {
   "cell_type": "markdown",
   "metadata": {},
   "source": [
    "# External IDs Creation Script Explanation\n",
    "\n",
    "This notebook explains the `create_externalids` function, which generates external IDs for students based on their memberships and other attributes. The script ensures that each student has a unique external ID.\n",
    "\n",
    "## 1. Introduction\n",
    "\n",
    "The `create_externalids` function is designed to:\n",
    "1. Load existing external IDs from a JSON file.\n",
    "2. Create a mapping of student memberships.\n",
    "3. Generate new external IDs for students based on their membership information.\n",
    "4. Return the list of external IDs.\n",
    "\n",
    "## 2. Import Necessary Libraries\n",
    "\n",
    "The script imports several libraries:\n",
    "- `json`: To handle JSON data.\n",
    "- `time`: To add delays where necessary.\n",
    "- `uuid`: To generate unique identifiers.\n",
    "- `os`: To interact with the operating system.\n"
   ]
  },
  {
   "cell_type": "markdown",
   "metadata": {},
   "source": [
    "## 3. Define the `create_externalids` Function\n",
    "\n",
    "The function `create_externalids` takes three parameters:\n",
    "1. `students`: A list of student dictionaries.\n",
    "2. `memberships`: A list of membership dictionaries.\n",
    "3. `externalidtypes`: A list of external ID type dictionaries.\n",
    "\n",
    "### Explanation of the Code\n",
    "\n",
    "- `open_file`: A utility function to read data from a JSON file.\n",
    "- `externalids_data`: Loads existing external IDs from the `systemdata.json` file.\n",
    "- `externalids_dict`: Creates a dictionary to map inner and outer IDs to existing external IDs.\n",
    "- `memberships_dict`: Creates a dictionary to map user IDs and group IDs to membership IDs.\n"
   ]
  },
  {
   "cell_type": "code",
   "execution_count": null,
   "metadata": {
    "vscode": {
     "languageId": "plaintext"
    }
   },
   "outputs": [],
   "source": [
    "def create_externalids(students, memberships, externalidtypes):\n",
    "    externalids = []\n",
    "    from utils.extract_data import open_file\n",
    "\n",
    "    externalids_data = open_file(\"systemdata.json\", \"externalids\")\n",
    "\n",
    "    externalids_dict = {\n",
    "        (item[\"inner_id\"], item[\"outer_id\"]): item[\"id\"] for item in externalids_data\n",
    "    }\n",
    "\n",
    "    memberships_dict = {\n",
    "        (item[\"user_id\"], item[\"group_id\"]): item[\"id\"] for item in memberships\n",
    "    }\n"
   ]
  },
  {
   "cell_type": "code",
   "execution_count": null,
   "metadata": {
    "vscode": {
     "languageId": "plaintext"
    }
   },
   "outputs": [],
   "source": [
    "    for student in students:\n",
    "        link = student.get(\"link\")\n",
    "        outer_id = str(link).split(\"/\")[-1]\n",
    "        inner_id = memberships_dict.get(\n",
    "            (student[\"id\"], student[\"group_id\"]), str(uuid.uuid4())\n",
    "        )\n",
    "        id = externalids_dict.get((inner_id, outer_id), str(uuid.uuid4()))\n",
    "\n",
    "        externalids.append(\n",
    "            {\n",
    "                \"id\": id,\n",
    "                \"inner_id\": inner_id,\n",
    "                \"outer_id\": outer_id,\n",
    "                \"type_id\": externalidtypes[0][\"id\"],\n",
    "            }\n",
    "        )\n",
    "\n",
    "    return externalids\n"
   ]
  },
  {
   "cell_type": "markdown",
   "metadata": {},
   "source": [
    "## 5. Conclusion\n",
    "\n",
    "In this notebook, we have broken down the `create_externalids` function, explaining each part and its purpose. This function is useful for generating and organizing external IDs for students based on their membership information.\n",
    "\n",
    "\n"
   ]
  }
 ],
 "metadata": {
  "language_info": {
   "name": "python"
  }
 },
 "nbformat": 4,
 "nbformat_minor": 2
}
