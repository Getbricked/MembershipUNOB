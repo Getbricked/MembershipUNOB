{
 "cells": [
  {
   "cell_type": "markdown",
   "metadata": {},
   "source": [
    "# Group Extractor Script Explanation\n",
    "\n",
    "This notebook explains the `group_extractor.py` script, which extracts group information from an HTML file and saves it in a JSON file. The script uses BeautifulSoup for HTML parsing, handles data extraction, and ensures the output is properly formatted.\n",
    "\n",
    "## 1. Introduction\n",
    "\n",
    "The script is designed to:\n",
    "1. Parse an HTML file to find all links (`<a>` tags).\n",
    "2. Extract relevant data (URL, group name, and group ID) from each link.\n",
    "3. Save the extracted data into a JSON file.\n",
    "\n",
    "## 2. Import Necessary Libraries\n",
    "\n",
    "The script imports several libraries:\n",
    "- `BeautifulSoup` from `bs4` for parsing HTML.\n",
    "- `json` for handling JSON data.\n",
    "- `uuid` for generating unique identifiers.\n",
    "- `os` for interacting with the operating system.\n",
    "- `config_check_web` and `config_web` for configuration management.\n",
    "- `open_file` for opening and reading data from JSON files.\n"
   ]
  },
  {
   "cell_type": "markdown",
   "metadata": {},
   "source": [
    "## 3. Configuration Decorator\n",
    "\n",
    "The function is decorated with `@config_check_web(config_web[\"get_data\"])`, which likely performs some configuration checks or setups before the main function is executed.\n"
   ]
  },
  {
   "cell_type": "code",
   "execution_count": null,
   "metadata": {
    "vscode": {
     "languageId": "plaintext"
    }
   },
   "outputs": [],
   "source": [
    "@config_check_web(config_web[\"get_data\"])\n",
    "def get_group(html_file_path, output_json_path):\n",
    "    # Open the HTML file\n",
    "    with open(html_file_path, \"r\", encoding=\"utf-8\") as file:\n",
    "        html_content = file.read()\n",
    "\n",
    "    # Parse HTML content\n",
    "    soup = BeautifulSoup(html_content, \"html.parser\")\n"
   ]
  },
  {
   "cell_type": "markdown",
   "metadata": {},
   "source": [
    "## 4. Parse HTML and Extract Data\n",
    "\n",
    "The function reads the HTML file and uses BeautifulSoup to parse it. It then finds all `<a>` tags, initializes a list to store the data, and loads any existing group data from the output JSON file.\n"
   ]
  },
  {
   "cell_type": "markdown",
   "metadata": {},
   "source": [
    "## 5. Handling Existing Groups\n",
    "\n",
    "The script creates a lookup dictionary (`old_groups_lookup`) to match existing group names and URLs to their IDs. This ensures that groups with the same name and URL retain their original IDs.\n"
   ]
  },
  {
   "cell_type": "code",
   "execution_count": null,
   "metadata": {
    "vscode": {
     "languageId": "plaintext"
    }
   },
   "outputs": [],
   "source": [
    "    old_groups_lookup = {\n",
    "        (group[\"name\"], group[\"url\"]): group[\"id\"] for group in old_groups\n",
    "    }\n"
   ]
  },
  {
   "cell_type": "markdown",
   "metadata": {},
   "source": [
    "## 6. Extract New Group Data\n",
    "\n",
    "The script iterates over each link, extracts the URL and group name, and assigns an ID. If a group with the same name and URL already exists, it uses the existing ID. Otherwise, it generates a new unique ID. The extracted data is then appended to the `data` list.\n"
   ]
  },
  {
   "cell_type": "code",
   "execution_count": null,
   "metadata": {
    "vscode": {
     "languageId": "plaintext"
    }
   },
   "outputs": [],
   "source": [
    "    # Extract URL, group name, and group id from each <a> tag and store in data list\n",
    "    for link in links:\n",
    "        url = \"https://apl.unob.cz\" + link[\"href\"]\n",
    "        group_name = link.text.strip(\";\")\n",
    "        group_id = old_groups_lookup.get((group_name, url), str(uuid.uuid4()))\n",
    "        data.append(\n",
    "            {\n",
    "                \"id\": group_id,\n",
    "                \"name\": group_name,\n",
    "                \"url\": url,\n",
    "                \"valid\": True,\n",
    "                \"grouptype_id\": \"cd49e157-610c-11ed-9312-001a7dda7110\",\n",
    "            }\n",
    "        )\n",
    "\n",
    "    data = {\"groups\": data}\n"
   ]
  },
  {
   "cell_type": "markdown",
   "metadata": {},
   "source": [
    "## 7. Save Extracted Data to JSON\n",
    "\n",
    "Finally, the script saves the extracted group data to a JSON file. The data is saved in a readable format with indentation.\n"
   ]
  },
  {
   "cell_type": "code",
   "execution_count": null,
   "metadata": {
    "vscode": {
     "languageId": "plaintext"
    }
   },
   "outputs": [],
   "source": [
    "    # Save data to a JSON file\n",
    "    with open(output_json_path, \"w\", encoding=\"utf-8\") as outfile:\n",
    "        json.dump(data, outfile, ensure_ascii=False, indent=4)\n",
    "\n",
    "    print(f\"Data has been saved to {output_json_path} file.\")\n"
   ]
  },
  {
   "cell_type": "markdown",
   "metadata": {},
   "source": [
    "The form of data should look like this:"
   ]
  },
  {
   "cell_type": "code",
   "execution_count": null,
   "metadata": {
    "vscode": {
     "languageId": "plaintext"
    }
   },
   "outputs": [],
   "source": [
    "\"groups\": [\n",
    "        {\n",
    "            \"id\": \"819f5200-2c51-4cc8-aac6-a448ad78a6a8\",\n",
    "            \"name\": \"11-5ŘPOS1\",\n",
    "            \"url\": \"https://apl.unob.cz/MojeAP/StudiumSkupina/7253\",\n",
    "            \"valid\": true,\n",
    "            \"grouptype_id\": \"cd49e157-610c-11ed-9312-001a7dda7110\"\n",
    "        },\n",
    "        {\n",
    "            \"id\": \"e6de5760-0b4b-4632-bf6c-d5abf489adf6\",\n",
    "            \"name\": \"11-5ŘPOS2\",\n",
    "            \"url\": \"https://apl.unob.cz/MojeAP/StudiumSkupina/7254\",\n",
    "            \"valid\": true,\n",
    "            \"grouptype_id\": \"cd49e157-610c-11ed-9312-001a7dda7110\"\n",
    "        },\n",
    "        {\n",
    "            \"id\": \"4a2cd23a-6e3a-45ff-9e17-89127143c478\",\n",
    "            \"name\": \"11-5ŘPOS3\",\n",
    "            \"url\": \"https://apl.unob.cz/MojeAP/StudiumSkupina/7255\",\n",
    "            \"valid\": true,\n",
    "            \"grouptype_id\": \"cd49e157-610c-11ed-9312-001a7dda7110\"\n",
    "        },\n",
    "        {\n",
    "            \"id\": \"8193aa05-2eba-412b-8379-4a83d213e15a\",\n",
    "            \"name\": \"11-5ŘPOS4\",\n",
    "            \"url\": \"https://apl.unob.cz/MojeAP/StudiumSkupina/7256\",\n",
    "            \"valid\": true,\n",
    "            \"grouptype_id\": \"cd49e157-610c-11ed-9312-001a7dda7110\"\n",
    "        }\n",
    "]"
   ]
  },
  {
   "cell_type": "markdown",
   "metadata": {},
   "source": [
    "## 8. Conclusion\n",
    "\n",
    "In this notebook, we have broken down the `group_extractor.py` script, explaining each part and its purpose. This script is useful for extracting and organizing group information from an HTML file and saving it in a structured JSON format.\n",
    "\n",
    "Ensure you have the necessary configurations and utility functions (`config_check_web`, `config_web`, `open_file`) available in your project for this script to run correctly.\n",
    "\n"
   ]
  }
 ],
 "metadata": {
  "kernelspec": {
   "display_name": "Python 3 (ipykernel)",
   "language": "python",
   "name": "python3"
  },
  "language_info": {
   "codemirror_mode": {
    "name": "ipython",
    "version": 3
   },
   "file_extension": ".py",
   "mimetype": "text/x-python",
   "name": "python",
   "nbconvert_exporter": "python",
   "pygments_lexer": "ipython3",
   "version": "3.10.10"
  }
 },
 "nbformat": 4,
 "nbformat_minor": 4
}
