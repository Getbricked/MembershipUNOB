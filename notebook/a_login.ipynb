{
 "cells": [
  {
   "cell_type": "markdown",
   "id": "f79b5509",
   "metadata": {},
   "source": [
    "# Python Project Function Demonstration\n",
    "\n",
    "Welcome to this Jupyter Notebook where we will demonstrate the functions from the Membership Python project."
   ]
  },
  {
   "cell_type": "markdown",
   "id": "d307c44d",
   "metadata": {},
   "source": [
    "# Selenium Web Automation Example\n",
    "\n",
    "This notebook demonstrates how to use Selenium for web automation, specifically for logging into a website using credentials stored in a JSON file.\n",
    "\n",
    "## 1. Introduction\n",
    "\n",
    "Selenium is a powerful tool for controlling web browsers through programs and performing browser automation. It is functional for all browsers, works on all major OS, and its scripts can be written in various programming languages including Python.\n",
    "\n",
    "In this example, we will:\n",
    "1. Set up the Selenium WebDriver.\n",
    "2. Load login credentials from a JSON file.\n",
    "3. Perform the login operation on a specified website.\n",
    "\n",
    "## 2. Import Necessary Libraries\n",
    "\n",
    "First, we need to import the necessary libraries. Here's a brief description of each:\n",
    "- `selenium`: The core library for browser automation.\n",
    "- `webdriver_manager.chrome`: To manage and download the ChromeDriver.\n",
    "- `json`: To read the JSON file containing the login credentials.\n",
    "- `time`: To add delays where necessary.\n"
   ]
  },
  {
   "cell_type": "markdown",
   "id": "6023869c",
   "metadata": {},
   "source": [
    "## 3. Define the Login Function\n",
    "\n",
    "The following function performs the login operation:\n",
    "- It navigates to the login page.\n",
    "- Reads the login credentials from a JSON file.\n",
    "- Fills in the username and password fields.\n",
    "- Submits the login form.\n",
    "\n",
    "\n"
   ]
  },
  {
   "cell_type": "code",
   "execution_count": null,
   "id": "5b8a91fb",
   "metadata": {
    "vscode": {
     "languageId": "plaintext"
    }
   },
   "outputs": [],
   "source": [
    "def login(driver):\n",
    "    url = \"https://apl.unob.cz/MojeAP\"\n",
    "\n",
    "    driver.get(url)\n",
    "    driver.refresh()\n",
    "    print(\"Logging in...\\n\")\n",
    "\n",
    "    # Read username and password from JSON file\n",
    "    with open(\"credentials.json\", \"r\") as file:\n",
    "        credentials = json.load(file)\n",
    "        username = credentials[\"username\"]\n",
    "        password = credentials[\"password\"]\n",
    "\n",
    "    # Login\n",
    "    driver.find_element(By.NAME, \"Username\").send_keys(username)\n",
    "    driver.find_element(By.NAME, \"Password\").send_keys(password)\n",
    "    driver.find_element(By.NAME, \"button\").click()\n",
    "    time.sleep(0.05)\n"
   ]
  },
  {
   "cell_type": "markdown",
   "id": "d47181a0",
   "metadata": {},
   "source": [
    "## 4. Setting Up the WebDriver\n",
    "\n",
    "## 5. Execute the Login Function"
   ]
  },
  {
   "cell_type": "markdown",
   "id": "7acfd358",
   "metadata": {},
   "source": [
    "## 6. Conclusion\n",
    "\n",
    "In this notebook, we demonstrated how to use Selenium for web automation to log into a website using credentials stored in a JSON file. Selenium is a powerful tool for automating web interactions, and this example shows just one of the many possible use cases.\n",
    "\n",
    "Make sure to update the `credentials.json` file with your actual login credentials before running the notebook. This file should be in the same directory as the notebook and have the following structure:\n",
    "\n",
    "```json\n",
    "{\n",
    "  \"username\": \"your_username\",\n",
    "  \"password\": \"your_password\"\n",
    "}"
   ]
  }
 ],
 "metadata": {
  "kernelspec": {
   "display_name": "",
   "name": ""
  },
  "language_info": {
   "name": ""
  }
 },
 "nbformat": 4,
 "nbformat_minor": 5
}
