{
 "cells": [
  {
   "cell_type": "markdown",
   "metadata": {},
   "source": [
    "# Data Extraction Script Explanation\n",
    "\n",
    "This notebook explains the `extract_data` function, which processes student and membership data from JSON files, and then extracts, reformats, and saves this data into a consolidated JSON file.\n",
    "\n",
    "## 1. Introduction\n",
    "\n",
    "The `extract_data` function is designed to:\n",
    "1. Load student and group data from JSON files.\n",
    "2. Reformat student data and create memberships.\n",
    "3. Generate external IDs for students.\n",
    "4. Merge old and new memberships.\n",
    "5. Save the consolidated data into a JSON file.\n",
    "\n",
    "## 2. Import Necessary Libraries\n",
    "\n",
    "\n",
    "The script imports several libraries:\n",
    "- `json`: To handle JSON data.\n",
    "- `time`: To add delays where necessary.\n",
    "- `uuid`: To generate unique identifiers.\n",
    "- `os`: To interact with the operating system.\n"
   ]
  },
  {
   "cell_type": "markdown",
   "metadata": {},
   "source": [
    "## 3. Utility Functions\n",
    "\n",
    "### `ensure_file_exists` Decorator\n",
    "\n",
    "This decorator ensures that a file exists before attempting to open it. If the file does not exist, it initializes an empty data structure and writes it to the file.\n",
    "\n",
    "### Explanation of the Code\n",
    "- Checks if the file exists.\n",
    "- If not, creates an empty data structure and writes it to the file.\n",
    "- Calls the original function with the provided arguments.\n"
   ]
  },
  {
   "cell_type": "code",
   "execution_count": null,
   "metadata": {
    "vscode": {
     "languageId": "plaintext"
    }
   },
   "outputs": [],
   "source": [
    "def ensure_file_exists(func):\n",
    "    def wrapper(*args, **kwargs):\n",
    "        # Extract the `path` argument from the function's arguments\n",
    "        path = kwargs.get(\"path\") if \"path\" in kwargs else args[0]\n",
    "\n",
    "        if os.path.exists(path):\n",
    "            # If the file exists, proceed with the original function\n",
    "            return func(*args, **kwargs)\n",
    "        else:\n",
    "            # If the file doesn't exist, initialize an empty data structure\n",
    "            data = {}\n",
    "\n",
    "            # Write the empty data to the file\n",
    "            with open(path, \"w\", encoding=\"utf-8\") as file:\n",
    "                json.dump(data, file, indent=4)\n",
    "\n",
    "            # Now call the original function\n",
    "            return func(*args, **kwargs)\n",
    "\n",
    "    return wrapper\n"
   ]
  },
  {
   "cell_type": "markdown",
   "metadata": {},
   "source": [
    "### `open_file` Function\n",
    "\n",
    "This function opens a JSON file and loads the data corresponding to a specified key (`data_name`). If the file is empty or the key does not exist, it returns an empty list.\n",
    "\n",
    "### Explanation of the Code\n",
    "- Opens the specified file and reads its contents.\n",
    "- Loads the data for the specified key.\n",
    "- Returns the data or an empty list if the key does not exist.\n"
   ]
  },
  {
   "cell_type": "code",
   "execution_count": null,
   "metadata": {
    "vscode": {
     "languageId": "plaintext"
    }
   },
   "outputs": [],
   "source": [
    "@ensure_file_exists\n",
    "def open_file(path, data_name):\n",
    "    if os.path.getsize(path) > 0:\n",
    "        with open(path, \"r\", encoding=\"utf-8\") as data_file:\n",
    "            data = json.load(data_file)\n",
    "            if data_name in data:\n",
    "                out_data = data[data_name]\n",
    "            else:\n",
    "                out_data = []\n",
    "    else:\n",
    "        out_data = []\n",
    "\n",
    "    return out_data\n"
   ]
  },
  {
   "cell_type": "markdown",
   "metadata": {},
   "source": [
    "## 4. `extract_data` Function\n",
    "\n",
    "This function orchestrates the extraction and transformation of student and membership data. It loads data from various JSON files, processes it, and saves the consolidated data into a single JSON file.\n",
    "\n",
    "### Explanation of the Code\n",
    "- Loads student, group, and membership data from JSON files.\n",
    "- Reformats student data and creates new memberships.\n",
    "- Generates external IDs for students using the `create_externalids` function.\n",
    "- Merges old and new memberships to remove duplicates.\n",
    "- Saves the final extracted data into a JSON file.\n"
   ]
  },
  {
   "cell_type": "code",
   "execution_count": null,
   "metadata": {
    "vscode": {
     "languageId": "plaintext"
    }
   },
   "outputs": [],
   "source": [
    "@config_check_web(config_web[\"extract_data\"])\n",
    "def extract_data():\n",
    "\n",
    "    # Load the data from the JSON files\n",
    "    students = open_file(\"utils/c_students_data.json\", \"users\")\n",
    "    groups = open_file(\"utils/b_groups_data.json\", \"groups\")\n",
    "\n",
    "    # Create a dictionary of old memberships based on group_id and user_id\n",
    "    old_memberships = open_file(\"systemdata.json\", \"memberships\")\n",
    "    old_memberships_dict = {\n",
    "        (m[\"user_id\"], m[\"group_id\"]): m[\"id\"] for m in old_memberships\n",
    "    }\n",
    "\n",
    "    # Define the new data structures for memberships and users\n",
    "    memberships = []\n",
    "    users = []\n",
    "\n",
    "    # Reformat the student data and create new memberships\n",
    "    for student in students:\n",
    "        # Split the name into parts\n",
    "        name_parts = student[\"name\"].split()\n",
    "\n",
    "        # Assume the first part is the surname and the rest is the first name\n",
    "        surname = name_parts[0]\n",
    "        name = \" \".join(name_parts[1:])\n",
    "\n",
    "        membership_id = old_memberships_dict.get(\n",
    "            (student[\"id\"], student[\"group_id\"]), str(uuid.uuid4())\n",
    "        )\n",
    "\n",
    "        memberships.append(\n",
    "            {\n",
    "                \"id\": membership_id,\n",
    "                \"user_id\": student[\"id\"],\n",
    "                \"group_id\": student[\"group_id\"],\n",
    "                \"valid\": True,\n",
    "            }\n",
    "        )\n",
    "\n",
    "        users.append(\n",
    "            {\n",
    "                \"id\": student[\"id\"],\n",
    "                \"name\": name,\n",
    "                \"surname\": surname,\n",
    "                \"email\": student[\"email\"],\n",
    "            }\n",
    "        )\n",
    "    list_length = len(memberships)\n",
    "    print(f\"Number of memberships: {list_length}\")\n",
    "\n",
    "    # Create externalidtypes\n",
    "    externalidtypes = []\n",
    "\n",
    "    # Default externalidtype for MojeAP-Student from gqlUG\n",
    "    externalidtypes.append(\n",
    "        {\n",
    "            \"id\": \"d5bfe043-f82e-4d24-baa2-524a4f443ed0\",\n",
    "            \"name\": \"MojeAP-Student\",\n",
    "            \"name_en\": \"UCO\",\n",
    "            \"urlformat\": \"https://apl.unob.cz/MojeAP/Student/%s\",\n",
    "            \"category_id\": \"0ee3a92d-971f-499a-956f-ca6edb8d6094\",\n",
    "        }\n",
    "    )\n",
    "\n",
    "    # Create externalids\n",
    "    externalids = create_externalids(students, memberships, externalidtypes)\n",
    "\n",
    "    # Merge the old memberships with the new ones\n",
    "    membership_dict = {}\n",
    "\n",
    "    for m in old_memberships:\n",
    "        membership_dict[m[\"id\"]] = m\n",
    "\n",
    "    for m in memberships:\n",
    "        membership_dict[m[\"id\"]] = {**membership_dict.get(m[\"id\"], {}), **m}\n",
    "\n",
    "    filtered_memberships = list(membership_dict.values())\n",
    "\n",
    "    # Remove the URL parameter from the groups\n",
    "    for group in groups:\n",
    "        if \"url\" in group:\n",
    "            del group[\"url\"]\n",
    "\n",
    "    # Save the extracted data to a JSON file\n",
    "    extracted_data = {\n",
    "        \"externalidtypes\": externalidtypes,\n",
    "        \"externalids\": externalids,\n",
    "        \"groups\": groups,\n",
    "        \"users\": users,\n",
    "        \"memberships\": filtered_memberships,\n",
    "    }\n",
    "\n",
    "    with open(\"systemdata.json\", \"w\", encoding=\"utf-8\") as outfile:\n",
    "        json.dump(extracted_data, outfile, ensure_ascii=False, indent=4)"
   ]
  },
  {
   "cell_type": "markdown",
   "metadata": {},
   "source": [
    "## 5. Conclusion\n",
    "\n",
    "In this notebook, we have broken down the `extract_data` function and its supporting functions, explaining each part and its purpose. This script is useful for extracting and organizing student and membership information from various JSON files and saving it in a consolidated format.\n",
    "\n",
    "Ensure you have the necessary utility functions (`create_externalids`, `config_check_web`, `open_file`) and configurations available in your project for this script to run correctly.\n",
    "\n",
    "\n"
   ]
  }
 ],
 "metadata": {
  "kernelspec": {
   "display_name": "Python 3 (ipykernel)",
   "language": "python",
   "name": "python3"
  },
  "language_info": {
   "codemirror_mode": {
    "name": "ipython",
    "version": 3
   },
   "file_extension": ".py",
   "mimetype": "text/x-python",
   "name": "python",
   "nbconvert_exporter": "python",
   "pygments_lexer": "ipython3",
   "version": "3.10.10"
  }
 },
 "nbformat": 4,
 "nbformat_minor": 4
}
