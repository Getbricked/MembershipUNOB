{
 "cells": [
  {
   "cell_type": "markdown",
   "metadata": {},
   "source": [
    "# Asynchronous Data Import Script Explanation\n",
    "\n",
    "This notebook explains the script that asynchronously imports data into a database using GraphQL mutations. It uses `aiohttp` for making asynchronous HTTP requests and `async_lru` for caching.\n",
    "\n",
    "## 1. Introduction\n",
    "\n",
    "The script is designed to:\n",
    "1. Authenticate and obtain a token.\n",
    "2. Perform GraphQL queries and mutations.\n",
    "3. Handle external ID translation.\n",
    "4. Import user, group, and membership data from JSON files.\n",
    "5. Cache results to optimize performance.\n",
    "\n",
    "## 2. Import Necessary Libraries\n",
    "\n",
    "The script imports several libraries:\n",
    "- `json`: To handle JSON data.\n",
    "- `asyncio`: To handle asynchronous operations.\n",
    "- `aiohttp`: To make asynchronous HTTP requests.\n",
    "- `config_check_import` and `config_data` from `utils._config`: To manage configurations.\n",
    "- `alru_cache`: To cache asynchronous functions.\n",
    "- `cache` from `functools`: To cache regular functions.\n"
   ]
  },
  {
   "cell_type": "markdown",
   "metadata": {},
   "source": [
    "## 3. Define the `DBWriter` Class\n",
    "\n",
    "The `DBWriter` class handles the following:\n",
    "1. Obtaining a token for authentication.\n",
    "2. Performing GraphQL queries and mutations.\n",
    "3. Translating external IDs.\n",
    "4. Registering new IDs.\n",
    "\n",
    "### Explanation of the Code\n",
    "\n",
    "- `__init__`: Initializes the class with username, password, and token.\n",
    "- `getToken`: Obtains a token for authentication.\n",
    "- `queryGQL` and `queryGQL3`: Perform GraphQL queries and mutations.\n",
    "- `GetQuery`: Retrieves GraphQL queries from files.\n",
    "- `asyncTranslateID`: Translates external IDs to internal IDs.\n",
    "- `getAllTypes` and `getTypeId`: Retrieve type information.\n",
    "- `registerID`: Registers new IDs.\n",
    "- `Read` and `Create`: Perform read and create operations.\n"
   ]
  },
  {
   "cell_type": "markdown",
   "metadata": {},
   "source": [
    "## 4. Define the `execute_mutation` Function\n",
    "\n",
    "The `execute_mutation` function performs GraphQL mutations concurrently with a limit on the number of concurrent connections.\n",
    "\n",
    "### Explanation of the Code\n",
    "\n",
    "- Reads the mutation GraphQL from a file.\n",
    "- Checks if the data is a list.\n",
    "- Uses a semaphore to limit concurrent connections.\n",
    "- Performs the mutation for each item in the data list.\n",
    "- Writes the results to a file.\n"
   ]
  },
  {
   "cell_type": "code",
   "execution_count": null,
   "metadata": {
    "vscode": {
     "languageId": "plaintext"
    }
   },
   "outputs": [],
   "source": [
    "async def execute_mutation(data, db_writer, graphql_dir):\n",
    "    # Get the mutation graphql from the file\n",
    "    with open(graphql_dir, \"r\", encoding=\"utf-8\") as file:\n",
    "        mutation = file.read()\n",
    "\n",
    "    # Check if the data is a list\n",
    "    if not isinstance(data, list):\n",
    "        raise ValueError(\"JSON data must be a list!\")\n",
    "\n",
    "    # Limited to 5 concurrent connections at the same time\n",
    "    semaphore = asyncio.Semaphore(5)\n",
    "\n",
    "    async def limited_query(mutation, variables):\n",
    "        async with semaphore:\n",
    "            return await db_writer.queryGQL(mutation, variables)\n",
    "\n",
    "    tasks = []\n",
    "\n",
    "    for item in data:\n",
    "        if not isinstance(item, dict):\n",
    "            raise ValueError(\"Each item must be a dictionary in the JSON data list!\")\n",
    "\n",
    "        variables = item\n",
    "        tasks.append(limited_query(mutation, variables))\n",
    "\n",
    "    results = await asyncio.gather(*tasks, return_exceptions=True)\n",
    "    with open(\"results.txt\", \"a\", encoding=\"utf-8\") as result_file:\n",
    "        for result in results:\n",
    "            if isinstance(result, Exception):\n",
    "                result_file.write(f\"Error: {result}\\n\")\n",
    "                print(f\"Error: {result}\")\n",
    "            else:\n",
    "                result_file.write(f\"Success: {result}\\n\")\n",
    "                print(f\"Success: {result}\")\n"
   ]
  },
  {
   "cell_type": "markdown",
   "metadata": {},
   "source": [
    "## 5. Define Import Functions\n",
    "\n",
    "The import functions (`import_user`, `import_group`, `import_membership`) use the `execute_mutation` function to perform the import operations for users, groups, and memberships.\n",
    "\n",
    "### Explanation of the Code\n",
    "\n",
    "- Calls `execute_mutation` with the appropriate data and GraphQL file.\n"
   ]
  },
  {
   "cell_type": "code",
   "execution_count": null,
   "metadata": {
    "vscode": {
     "languageId": "plaintext"
    }
   },
   "outputs": [],
   "source": [
    "@config_check_import(\"users\")\n",
    "async def import_user(data, db_writer, gql_func):\n",
    "    await execute_mutation(data, db_writer, gql_func)\n",
    "\n",
    "\n",
    "@config_check_import(\"groups\")\n",
    "async def import_group(data, db_writer, gql_func):\n",
    "    await execute_mutation(data, db_writer, gql_func)\n",
    "\n",
    "\n",
    "@config_check_import(\"memberships\")\n",
    "async def import_membership(data, db_writer, gql_func):\n",
    "    await execute_mutation(data, db_writer, gql_func)\n"
   ]
  },
  {
   "cell_type": "markdown",
   "metadata": {},
   "source": [
    "## 6. Define `db_writer_async` Function\n",
    "\n",
    "The `db_writer_async` function loads the system data from a JSON file and performs the import operations using the `DBWriter` class.\n",
    "\n",
    "### Explanation of the Code\n",
    "\n",
    "- Loads system data from `systemdata.json`.\n",
    "- Initializes the `DBWriter` instance.\n",
    "- Performs create operations for users and registers external IDs.\n"
   ]
  },
  {
   "cell_type": "code",
   "execution_count": null,
   "metadata": {
    "vscode": {
     "languageId": "plaintext"
    }
   },
   "outputs": [],
   "source": [
    "async def db_writer_async():\n",
    "    with open(\"systemdata.json\", \"r\", encoding=\"utf-8\") as f:\n",
    "        systemdata = json.load(f)\n",
    "\n",
    "    users = systemdata[\"users\"]\n",
    "    externalids = systemdata[\"externalids\"]\n",
    "\n",
    "    db_writer = DBWriter()\n",
    "\n",
    "    for user in users:\n",
    "        user[\"id\"] = user[\"id\"]\n",
    "        await db_writer.Create(tableName=\"users\", variables=user)\n",
    "\n",
    "    for externalid in externalids:\n",
    "        externalid[\"id\"] = externalid[\"id\"]\n",
    "        externalid[\"inner_id\"] = externalid[\"inner_id\"]\n",
    "        externalid[\"typeid_id\"] = externalid[\"typeid_id\"]\n",
    "        await db_writer.registerID(inner_id=externalid[\"inner_id\"], outer_id=externalid[\"outer_id\"],\n",
    "                                   type_id=externalid[\"typeid_id\"])\n"
   ]
  },
  {
   "cell_type": "markdown",
   "metadata": {},
   "source": [
    "## 7. Define `data_import` Function\n",
    "\n",
    "The `data_import` function orchestrates the import process by loading data and invoking the appropriate import functions.\n",
    "\n",
    "### Explanation of the Code\n",
    "\n",
    "- Loads data from `systemdata.json`.\n",
    "- Initializes the `DBWriter` instance.\n",
    "- Runs the import operations for users, groups, and memberships.\n"
   ]
  },
  {
   "cell_type": "code",
   "execution_count": null,
   "metadata": {
    "vscode": {
     "languageId": "plaintext"
    }
   },
   "outputs": [],
   "source": [
    "def data_import():\n",
    "    with open(\"systemdata.json\", \"r\", encoding=\"utf-8\") as file:\n",
    "        data = json.load(file)\n",
    "\n",
    "    loop = asyncio.get_event_loop()\n",
    "    db_writer = DBWriter()\n",
    "    user_gql = \"gql/user_add.gql\"\n",
    "    group_gql = \"gql/group_add.gql\"\n",
    "    membership_gql = \"gql/membership_add.gql\"\n",
    "\n",
    "    async def import_data():\n",
    "        await import_user(data[\"users\"], db_writer, user_gql)\n",
    "        await import_group(data[\"groups\"], db_writer, group_gql)\n",
    "        await import_membership(data[\"memberships\"], db_writer, membership_gql)\n",
    "\n",
    "    loop.run_until_complete(import_data())\n"
   ]
  },
  {
   "cell_type": "markdown",
   "metadata": {},
   "source": [
    "## 8. Conclusion\n",
    "\n",
    "In this notebook, we have broken down the script, explaining each part and its purpose. This script is useful for asynchronously importing data into a database using GraphQL mutations.\n",
    "\n",
    "Ensure you have the necessary configurations and utility functions available in your project for this script to run correctly.\n",
    "\n",
    "\n"
   ]
  }
 ],
 "metadata": {
  "language_info": {
   "name": "python"
  }
 },
 "nbformat": 4,
 "nbformat_minor": 2
}
