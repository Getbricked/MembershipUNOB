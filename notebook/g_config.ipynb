{
 "cells": [
  {
   "cell_type": "markdown",
   "metadata": {},
   "source": [
    "# Configuration Management Script Explanation\n",
    "\n",
    "This notebook explains the script that manages configurations for web scraping and data import processes. It uses `configparser` to read, write, and validate configuration settings.\n",
    "\n",
    "## 1. Introduction\n",
    "\n",
    "The script is designed to:\n",
    "1. Read configuration values from an INI file.\n",
    "2. Set default configuration values.\n",
    "3. Validate the configuration file and ensure it has valid values.\n",
    "4. Provide decorators to conditionally execute functions based on configuration settings.\n",
    "\n",
    "## 2. Import Necessary Libraries\n",
    "\n",
    "The script imports the `configparser` library to handle INI files.\n"
   ]
  },
  {
   "cell_type": "markdown",
   "metadata": {},
   "source": [
    "import configparser\n"
   ]
  },
  {
   "cell_type": "markdown",
   "metadata": {},
   "source": [
    "## 3. Define `read_config` Function\n",
    "\n",
    "The `read_config` function reads the configuration file and returns a dictionary with the configuration values.\n",
    "\n",
    "### Explanation of the Code\n",
    "\n",
    "- Creates a `ConfigParser` object.\n",
    "- Reads the configuration file `config.ini`.\n",
    "- Retrieves and returns the configuration values as a dictionary.\n"
   ]
  },
  {
   "cell_type": "code",
   "execution_count": null,
   "metadata": {
    "vscode": {
     "languageId": "plaintext"
    }
   },
   "outputs": [],
   "source": [
    "def read_config():\n",
    "    # Create a ConfigParser object\n",
    "    config = configparser.ConfigParser()\n",
    "\n",
    "    # Read the configuration file\n",
    "    config.read(\"config.ini\")\n",
    "\n",
    "    # Return a dictionary with the retrieved values\n",
    "    config_values = {\n",
    "        \"get_data\": config.getboolean(\"Webscraping\", \"get_data\"),\n",
    "        \"extract_data\": config.getboolean(\"Webscraping\", \"extract_data\"),\n",
    "        \"users\": config.getboolean(\"DataImport\", \"users\"),\n",
    "        \"groups\": config.getboolean(\"DataImport\", \"groups\"),\n",
    "        \"memberships\": config.getboolean(\"DataImport\", \"memberships\"),\n",
    "    }\n",
    "\n",
    "    return config_values\n"
   ]
  },
  {
   "cell_type": "markdown",
   "metadata": {},
   "source": [
    "## 4. Define `default_config` Function\n",
    "\n",
    "The `default_config` function sets default configuration values and writes them to the `config.ini` file.\n",
    "\n",
    "### Explanation of the Code\n",
    "\n",
    "- Creates a `ConfigParser` object.\n",
    "- Sets default values for the `Webscraping` and `DataImport` sections.\n",
    "- Writes the default configuration values to `config.ini`.\n"
   ]
  },
  {
   "cell_type": "code",
   "execution_count": null,
   "metadata": {
    "vscode": {
     "languageId": "plaintext"
    }
   },
   "outputs": [],
   "source": [
    "def default_config():\n",
    "    config = configparser.ConfigParser()\n",
    "\n",
    "    config[\"Webscraping\"] = {\"get_data\": \"True\", \"extract_data\": \"True\"}\n",
    "    config[\"DataImport\"] = {\n",
    "        \"users\": \"True\",\n",
    "        \"groups\": \"True\",\n",
    "        \"memberships\": \"True\",\n",
    "    }\n",
    "\n",
    "    # Write the configuration to a file\n",
    "    with open(\"config.ini\", \"w\") as configfile:\n",
    "        config.write(configfile)\n"
   ]
  },
  {
   "cell_type": "markdown",
   "metadata": {},
   "source": [
    "## 5. Define `validate_config` Function\n",
    "\n",
    "The `validate_config` function validates the configuration file and ensures it has valid values. If the configuration file is missing or contains invalid values, it rewrites the file with default values.\n",
    "\n",
    "### Explanation of the Code\n",
    "\n",
    "- Defines default values for the configuration.\n",
    "- Reads the configuration file `config.ini`.\n",
    "- Checks for missing sections or keys and validates the values.\n",
    "- If any validation fails, rewrites the configuration file with default values.\n",
    "- Returns the configuration values as a dictionary.\n"
   ]
  },
  {
   "cell_type": "code",
   "execution_count": null,
   "metadata": {
    "vscode": {
     "languageId": "plaintext"
    }
   },
   "outputs": [],
   "source": [
    "def validate_config():\n",
    "    default_values = {\n",
    "        \"Webscraping\": {\"get_data\": True, \"extract_data\": True},\n",
    "        \"DataImport\": {\n",
    "            \"users\": True,\n",
    "            \"groups\": True,\n",
    "            \"memberships\": True,\n",
    "        },\n",
    "    }\n",
    "\n",
    "    config = configparser.ConfigParser()\n",
    "    config.read(\"config.ini\")\n",
    "\n",
    "    try:\n",
    "        for section, keys in default_values.items():\n",
    "            if section not in config:\n",
    "                raise ValueError(f\"Missing section: {section}\")\n",
    "            for key, default_value in keys.items():\n",
    "                if key not in config[section]:\n",
    "                    raise ValueError(f\"Missing key: {key} in section: {section}\")\n",
    "                if config.get(section, key).lower() not in [\"true\", \"false\"]:\n",
    "                    raise ValueError(\n",
    "                        f\"Invalid value for key: {key} in section: {section}\"\n",
    "                    )\n",
    "\n",
    "        # If all values are valid, parse them as booleans\n",
    "        config_values = {\n",
    "            section: {key: config.getboolean(section, key) for key in keys}\n",
    "            for section, keys in default_values.items()\n",
    "        }\n",
    "\n",
    "    except Exception as e:\n",
    "        print(f\"Exception caught: {e}\")\n",
    "        print(\"Rewriting config with default values.\")\n",
    "        default_config()\n",
    "        config_values = default_values\n",
    "\n",
    "    return config_values\n"
   ]
  },
  {
   "cell_type": "markdown",
   "metadata": {},
   "source": [
    "## 6. Define Configuration Decorators\n",
    "\n",
    "The configuration decorators conditionally execute functions based on configuration settings.\n",
    "\n",
    "### Explanation of the Code\n",
    "\n",
    "- `config_check_web`: Decorator that checks if web scraping should be executed.\n",
    "- `config_check_import`: Decorator that checks if data import should be executed.\n"
   ]
  },
  {
   "cell_type": "code",
   "execution_count": null,
   "metadata": {
    "vscode": {
     "languageId": "plaintext"
    }
   },
   "outputs": [],
   "source": [
    "config_web = validate_config()[\"Webscraping\"]\n",
    "config_data = validate_config()[\"DataImport\"]\n",
    "\n",
    "def config_check_web(config):\n",
    "    def decorator(func):\n",
    "        def wrapper(*args, **kwargs):\n",
    "            if config:\n",
    "                print(\"Executing \" + func.__name__ + \"...\")\n",
    "                return func(*args, **kwargs)\n",
    "            else:\n",
    "                print(\"Skipping \" + func.__name__ + \"...\")\n",
    "                return None\n",
    "\n",
    "        return wrapper\n",
    "\n",
    "    return decorator\n",
    "\n",
    "def config_check_import(key):\n",
    "    def decorator(func):\n",
    "        async def wrapper(config, data, db_writer, gql_func):\n",
    "            if config.get(key, False):\n",
    "                print(f\"Executing {key} import...\")\n",
    "                await func(data[key], db_writer, gql_func)\n",
    "            else:\n",
    "                print(f\"Skipping {key} import...\")\n",
    "\n",
    "        return wrapper\n",
    "\n",
    "    return decorator\n"
   ]
  },
  {
   "cell_type": "markdown",
   "metadata": {},
   "source": [
    "## 7. Conclusion\n",
    "\n",
    "In this notebook, we have broken down the configuration management script, explaining each part and its purpose. This script is useful for managing configuration settings for web scraping and data import processes.\n",
    "\n",
    "Ensure you have the necessary configuration file (`config.ini`) in place for this script to run correctly. If the file is missing or contains invalid values, the script will rewrite it with default values.\n",
    "\n",
    "\n"
   ]
  }
 ],
 "metadata": {
  "language_info": {
   "name": "python"
  }
 },
 "nbformat": 4,
 "nbformat_minor": 2
}
